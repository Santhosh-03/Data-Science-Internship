{
 "cells": [
  {
   "cell_type": "markdown",
   "metadata": {},
   "source": [
    "## 1. Defanging an IP Address\n",
    "\n",
    "\n",
    "Given a valid (IPv4) IP address, return a defanged version of that IP address.\n",
    "\n",
    "A defanged IP address replaces every period \".\" with \"[.]\".\n",
    "\n",
    "\n",
    "__Example 1:__\n",
    "\n",
    "__Input:__ `address = \"1.1.1.1\"`\n",
    "\n",
    "__Output:__ `\"1[.]1[.]1[.]1\"`\n",
    "\n",
    "__Example 2:__\n",
    "\n",
    "__Input:__ `address = \"255.100.50.0\"`\n",
    "\n",
    "__Output:__ `\"255[.]100[.]50[.]0\"`\n",
    " \n",
    "__Constraints:__\n",
    "\n",
    "* The given address is a valid IPv4 address."
   ]
  },
  {
   "cell_type": "code",
   "execution_count": 4,
   "metadata": {},
   "outputs": [
    {
     "name": "stdout",
     "output_type": "stream",
     "text": [
      "1[.]1[.]1[.]1\n",
      "255[.]100[.]50[.]0\n"
     ]
    }
   ],
   "source": [
    "def defangIPaddr(address):\n",
    "    new_string = '' # empty string\n",
    "    for char in address: # for every character in address\n",
    "        if char != '.': # checking if char not equal to '.'\n",
    "            new_string += char # appending to new_string because it is a number\n",
    "        else: # it is '.'\n",
    "            new_string += '[.]' # appending the defanged format to new_string           \n",
    "    return new_string\n",
    "\n",
    "# test case 1\n",
    "address = \"1.1.1.1\"\n",
    "print(defangIPaddr(address)) # calling the function\n",
    "\n",
    "# test case 1\n",
    "address = \"255.100.50.0\"\n",
    "print(defangIPaddr(address)) # calling the function"
   ]
  },
  {
   "cell_type": "markdown",
   "metadata": {},
   "source": [
    "## 2. Find Numbers with Even Number of Digits\n",
    "\n",
    "Given an array nums of integers, return how many of them contain an even number of digits.\n",
    " \n",
    "__Example 1:__\n",
    "\n",
    "__Input:__ `nums = [12,345,2,6,7896]`\n",
    "__Output:__ `2`\n",
    "\n",
    "__Explanation:__\n",
    "\n",
    "* 12 contains 2 digits (even number of digits). \n",
    "* 345 contains 3 digits (odd number of digits). \n",
    "* 2 contains 1 digit (odd number of digits). \n",
    "* 6 contains 1 digit (odd number of digits). \n",
    "* 7896 contains 4 digits (even number of digits). \n",
    "\n",
    "Therefore only 12 and 7896 contain an even number of digits.\n",
    "\n",
    "__Example 2:__\n",
    "\n",
    "__Input:__ `nums = [555,901,482,1771]`\n",
    "__Output:__ `1` \n",
    "\n",
    "__Explanation:__ \n",
    "\n",
    "* Only 1771 contains an even number of digits.\n",
    " \n",
    "__Constraints:__\n",
    "\n",
    "* 1 <= nums.length <= 500\n",
    "* 1 <= nums[i] <= 10^5"
   ]
  },
  {
   "cell_type": "code",
   "execution_count": 10,
   "metadata": {},
   "outputs": [
    {
     "name": "stdout",
     "output_type": "stream",
     "text": [
      "2\n",
      "1\n"
     ]
    }
   ],
   "source": [
    "def findNumbers(nums):\n",
    "    count = 0 # variable to track the number of number that have even digits\n",
    "    for num in nums: # for each number in list nums\n",
    "        n = 0 # variable to track the number of digits for each number\n",
    "        while(num>0): # checking if number is greater than 0\n",
    "            num = num // 10 # performing integer division\n",
    "            n += 1 # increamenting n\n",
    "        if n%2 == 0: # checking if n is even\n",
    "            count += 1 # increamenting count\n",
    "        \n",
    "    return count\n",
    "\n",
    "# test case 1\n",
    "nums = [12,345,2,6,7896]\n",
    "print(findNumbers(nums))\n",
    "\n",
    "# test case 2\n",
    "nums = [555,901,482,1771]\n",
    "print(findNumbers(nums))"
   ]
  },
  {
   "cell_type": "markdown",
   "metadata": {},
   "source": [
    "## 3. Number of Good Pairs\n",
    "\n",
    "Given an array of integers nums, return the number of good pairs.\n",
    "\n",
    "A pair `(i, j)` is called good if `nums[i] == nums[j]` and `i < j`.\n",
    "\n",
    "__Example 1:__\n",
    "\n",
    "__Input:__ `nums = [1,2,3,1,1,3]`\n",
    "__Output:__ `4`\n",
    "\n",
    "__Explanation:__ There are 4 good pairs (0,3), (0,4), (3,4), (2,5) 0-indexed.\n",
    "\n",
    "__Example 2:__\n",
    "\n",
    "__Input:__ `nums = [1,1,1,1]`\n",
    "__Output:__ `6`\n",
    "\n",
    "__Explanation:__ Each pair in the array are good.\n",
    "\n",
    "__Example 3:__\n",
    "\n",
    "__Input:__ `nums = [1,2,3]`\n",
    "__Output:__ `0`\n",
    " \n",
    "__Constraints:__\n",
    "\n",
    "* 1 <= nums.length <= 100\n",
    "* 1 <= nums[i] <= 100"
   ]
  },
  {
   "cell_type": "code",
   "execution_count": 12,
   "metadata": {},
   "outputs": [
    {
     "name": "stdout",
     "output_type": "stream",
     "text": [
      "4\n",
      "6\n",
      "0\n"
     ]
    }
   ],
   "source": [
    "def numIdenticalPairs(nums):\n",
    "    count = 0 # creating a counter variable\n",
    "    for i in range(len(nums)): # iterating the list elements n times\n",
    "        for j in range(i+1, len(nums)): # iterating the list starting from next value present at index i\n",
    "            if nums[i] == nums[j]: # checking whether elements at the both the index are equal\n",
    "                count += 1 # increamenting the count\n",
    "            else:\n",
    "                continue\n",
    "    return count\n",
    "\n",
    "# test case 1\n",
    "nums = [1,2,3,1,1,3]\n",
    "print(numIdenticalPairs(nums))\n",
    "\n",
    "# test case 2\n",
    "nums = [1,1,1,1]\n",
    "print(numIdenticalPairs(nums))\n",
    "\n",
    "# test case 3\n",
    "nums = [1,2,3]\n",
    "print(numIdenticalPairs(nums))"
   ]
  },
  {
   "cell_type": "markdown",
   "metadata": {},
   "source": [
    "## 4. How Many Numbers Are Smaller Than the Current Number\n",
    "\n",
    "\n",
    "Given the array nums, for each nums[i] find out how many numbers in the array are smaller than it. That is, for each nums[i] you have to count the number of valid j's such that j != i and nums[j] < nums[i].\n",
    "\n",
    "Return the answer in an array.\n",
    "\n",
    "__Example 1:__\n",
    "\n",
    "__Input:__ `nums = [8,1,2,2,3]`\n",
    "__Output:__ `[4,0,1,1,3]`\n",
    "\n",
    "__Explanation:__ \n",
    "* For nums[0]=8 there exist four smaller numbers than it (1, 2, 2 and 3). \n",
    "* For nums[1]=1 does not exist any smaller number than it.\n",
    "* For nums[2]=2 there exist one smaller number than it (1). \n",
    "* For nums[3]=2 there exist one smaller number than it (1). \n",
    "* For nums[4]=3 there exist three smaller numbers than it (1, 2 and 2).\n",
    "\n",
    "__Example 2:__\n",
    "\n",
    "__Input:__ `nums = [6,5,4,8]`\n",
    "__Output:__ `[2,1,0,3]`\n",
    "\n",
    "__Example 3:__\n",
    "\n",
    "__Input:__ `nums = [7,7,7,7]`\n",
    "__Output:__ `[0,0,0,0]`\n",
    " \n",
    "\n",
    "__Constraints:__\n",
    "\n",
    "* 2 <= nums.length <= 500\n",
    "* 0 <= nums[i] <= 100"
   ]
  },
  {
   "cell_type": "code",
   "execution_count": 13,
   "metadata": {},
   "outputs": [
    {
     "name": "stdout",
     "output_type": "stream",
     "text": [
      "[4, 0, 1, 1, 3]\n",
      "[2, 1, 0, 3]\n",
      "[0, 0, 0, 0]\n"
     ]
    }
   ],
   "source": [
    "def smallerNumbersThanCurrent(nums):\n",
    "    output = [] # empty list\n",
    "    for i in range(len(nums)): # iterating through the list n times\n",
    "        count = 0 # creating a counter variable\n",
    "        for j in range(len(nums)): # iterating through the list n times\n",
    "            if nums[j] < nums[i]: # checking whether element at position j is less that element at position i\n",
    "                count += 1 # inreamenting the count\n",
    "        output.append(count) # appeding the count to list output\n",
    "    return output\n",
    "\n",
    "\n",
    "# test case 1\n",
    "nums = [8,1,2,2,3] # input list \n",
    "print(smallerNumbersThanCurrent(nums)) # calling the function\n",
    "\n",
    "# test case 2\n",
    "nums = [6,5,4,8] # input list \n",
    "print(smallerNumbersThanCurrent(nums)) # calling the function\n",
    "\n",
    "# test case 3\n",
    "nums = [7,7,7,7] # input list \n",
    "print(smallerNumbersThanCurrent(nums)) # calling the function"
   ]
  },
  {
   "cell_type": "markdown",
   "metadata": {},
   "source": [
    "## 5. Subtract the Product and Sum of Digits of an Integer\n",
    "\n",
    "Given an integer number n, return the difference between the product of its digits and the sum of its digits.\n",
    " \n",
    "__Example 1:__\n",
    "\n",
    "__Input:__ `n = 234`\n",
    "__Output:__ `15`\n",
    "\n",
    "__Explanation:__ \n",
    "* Product of digits = 2 * 3 * 4 = 24 \n",
    "* Sum of digits = 2 + 3 + 4 = 9 \n",
    "* Result = 24 - 9 = 15\n",
    "\n",
    "__Example 2:__\n",
    "\n",
    "__Input:__ `n = 4421`\n",
    "__Output:__ `21`\n",
    "\n",
    "__Explanation:__ \n",
    "* Product of digits = 4 * 4 * 2 * 1 = 32 \n",
    "* Sum of digits = 4 + 4 + 2 + 1 = 11 \n",
    "* Result = 32 - 11 = 21\n",
    " \n",
    "__Constraints:__\n",
    "\n",
    "* 1 <= n <= 10^5"
   ]
  },
  {
   "cell_type": "code",
   "execution_count": 1,
   "metadata": {},
   "outputs": [
    {
     "name": "stdout",
     "output_type": "stream",
     "text": [
      "15\n",
      "21\n"
     ]
    }
   ],
   "source": [
    "def subtractProductAndSum(num):\n",
    "    prod, total = 1, 0 # inittalizing product and total \n",
    "    while(num > 0): # checking whether num is greater than 0\n",
    "        rem = num % 10 # finding the remainder using modulus operator\n",
    "        prod *= rem # multiplying remainder with the prod\n",
    "        total += rem # adding remainder with total\n",
    "        num = num//10 # doing integer division on num\n",
    "    return prod-total # returning the differnence of prod and total\n",
    "\n",
    "# test case 1\n",
    "n = 234\n",
    "print(subtractProductAndSum(n)) # calling the function\n",
    "\n",
    "# test case 2\n",
    "n = 4421\n",
    "print(subtractProductAndSum(n)) # calling the function"
   ]
  },
  {
   "cell_type": "markdown",
   "metadata": {},
   "source": [
    "## 6. XOR Operation in an Array\n",
    "\n",
    "Given an integer n and an integer start.\n",
    "\n",
    "Define an array nums where `nums[i] = start + 2*i` (0-indexed) and n == nums.length.\n",
    "\n",
    "Return the bitwise XOR of all elements of nums.\n",
    "\n",
    "__Example 1:__\n",
    "\n",
    "__Input:__ `n = 5`, `start = 0`\n",
    "__Output:__ `8\n",
    "`\n",
    "\n",
    "__Explanation:__ Array nums is equal to `[0, 2, 4, 6, 8]` where `(0 ^ 2 ^ 4 ^ 6 ^ 8) = 8`.\n",
    "Where \"^\" corresponds to bitwise XOR operator.\n",
    "\n",
    "__Example 2:__\n",
    "\n",
    "__Input:__ `n = 4`, `start = 3`\n",
    "__Output:__ `8`\n",
    "\n",
    "__Explanation:__ Array nums is equal to `[3, 5, 7, 9]` where `(3 ^ 5 ^ 7 ^ 9) = 8`.\n",
    "\n",
    "__Example 3:__\n",
    "\n",
    "__Input:__ `n = 1`, `start = 7`\n",
    "__Output:__ `7`\n",
    "\n",
    "__Example 4:__\n",
    "\n",
    "__Input:__ `n = 10`, `start = 5`\n",
    "__Output:__ `2`\n",
    " \n",
    "\n",
    "__Constraints:__\n",
    "\n",
    "* 1 <= n <= 1000\n",
    "0 <= start <= 1000\n",
    "n == nums.length"
   ]
  },
  {
   "cell_type": "code",
   "execution_count": 3,
   "metadata": {},
   "outputs": [
    {
     "name": "stdout",
     "output_type": "stream",
     "text": [
      "8\n",
      "8\n",
      "7\n",
      "2\n"
     ]
    }
   ],
   "source": [
    "def xorOperation(n,start):\n",
    "    arr = [] # empty list\n",
    "    xor = 0 \n",
    "    for idx in range(n): # iterating for n times\n",
    "        if idx == 0: # checking whether idx is 0\n",
    "            arr.append(start) # appending the start value to the list arr\n",
    "        else: # idx != 0\n",
    "            arr.append(start + 2*idx) # appending the value (start + 2*idx) to the list\n",
    "    for num in arr: # for every element in the list\n",
    "        xor = xor ^ num # finding the xor \n",
    "    return xor\n",
    "\n",
    "# test case 1\n",
    "n, start = 5, 0\n",
    "print(xorOperation(n, start)) # calling the function\n",
    "\n",
    "# test case 2\n",
    "n, start = 4, 3\n",
    "print(xorOperation(n, start)) # calling the function\n",
    "\n",
    "# test case 3\n",
    "n, start = 1, 7\n",
    "print(xorOperation(n, start)) # calling the function\n",
    "\n",
    "# test case 4\n",
    "n, start = 10, 5\n",
    "print(xorOperation(n, start)) # calling the function"
   ]
  }
 ],
 "metadata": {
  "kernelspec": {
   "display_name": "Python 3",
   "language": "python",
   "name": "python3"
  },
  "language_info": {
   "codemirror_mode": {
    "name": "ipython",
    "version": 3
   },
   "file_extension": ".py",
   "mimetype": "text/x-python",
   "name": "python",
   "nbconvert_exporter": "python",
   "pygments_lexer": "ipython3",
   "version": "3.8.5"
  }
 },
 "nbformat": 4,
 "nbformat_minor": 4
}
