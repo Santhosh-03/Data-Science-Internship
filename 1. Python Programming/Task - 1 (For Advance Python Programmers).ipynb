{
 "cells": [
  {
   "cell_type": "markdown",
   "metadata": {},
   "source": [
    "## 1. Running Sum of 1d Array\n",
    "\n",
    "Given an array nums. We define a running sum of an array as runningSum[i] = sum(nums[0]…nums[i]).\n",
    "\n",
    "Return the running sum of nums.\n",
    "\n",
    "__Example 1:__\n",
    "\n",
    "__Input:__ nums = `[1,2,3,4]`\n",
    "\n",
    "__Output:__ `[1,3,6,10]`\n",
    "\n",
    "__Explanation:__ Running sum is obtained as follows: `[1, 1+2, 1+2+3, 1+2+3+4]`.\n",
    "\n",
    "__Example 2:__\n",
    "\n",
    "__Input:__ nums = `[1,1,1,1,1]`\n",
    "\n",
    "__Output:__ `[1,2,3,4,5]`\n",
    "\n",
    "__Explanation:__ Running sum is obtained as follows: `[1, 1+1, 1+1+1, 1+1+1+1, 1+1+1+1+1]`.\n",
    "\n",
    "__Example 3:__\n",
    "\n",
    "__Input:__ nums = `[3,1,2,10,1]`\n",
    "\n",
    "__Output:__ `[3,4,6,16,17]`\n",
    " \n",
    "\n",
    "__Constraints:__\n",
    "\n",
    "* 1 <= nums.length <= 1000\n",
    "\n",
    "* -10^6 <= nums[i] <= 10^6"
   ]
  },
  {
   "cell_type": "code",
   "execution_count": 8,
   "metadata": {},
   "outputs": [
    {
     "name": "stdout",
     "output_type": "stream",
     "text": [
      "[1, 3, 6, 10]\n",
      "[1, 2, 3, 4, 5]\n",
      "[3, 4, 6, 16, 17]\n"
     ]
    }
   ],
   "source": [
    "def runningSum(nums):\n",
    "    output = []\n",
    "    for idx in range(1, len(nums)+1): # since during slicing the end index is reduced by 1 we loop from 1 to n+1\n",
    "        output.append(sum(nums[:idx])) # appending the sum first idx elements to output\n",
    "    return output\n",
    "\n",
    "# test case 1\n",
    "nums = [1,2,3,4]\n",
    "print(runningSum(nums))\n",
    "\n",
    "# test case 2\n",
    "nums = [1,1,1,1,1]\n",
    "print(runningSum(nums))\n",
    "\n",
    "# test case 3\n",
    "nums = [3,1,2,10,1]\n",
    "print(runningSum(nums))"
   ]
  },
  {
   "cell_type": "markdown",
   "metadata": {},
   "source": [
    "## 2. Kids With the Greatest Number of Candies\n",
    "\n",
    "There are n kids with candies. You are given an integer array candies, where each candies[i] represents the number of candies the ith kid has, and an integer extraCandies, denoting the number of extra candies that you have.\n",
    "\n",
    "Return a boolean array result of length n, where result[i] is true if, after giving the ith kid all the extraCandies, they will have the greatest number of candies among all the kids, or false otherwise.\n",
    "\n",
    "Note that multiple kids can have the greatest number of candies.\n",
    " \n",
    "__Example 1:__\n",
    "\n",
    "__Input:__ `candies = [2,3,5,1,3]`, `extraCandies = 3`\n",
    "\n",
    "__Output:__ `[true,true,true,false,true]` \n",
    "\n",
    "__Explanation:__ If you give all extraCandies to:\n",
    "- Kid 1, they will have 2 + 3 = 5 candies, which is the greatest among the kids.\n",
    "- Kid 2, they will have 3 + 3 = 6 candies, which is the greatest among the kids.\n",
    "- Kid 3, they will have 5 + 3 = 8 candies, which is the greatest among the kids.\n",
    "- Kid 4, they will have 1 + 3 = 4 candies, which is not the greatest among the kids.\n",
    "- Kid 5, they will have 3 + 3 = 6 candies, which is the greatest among the kids.\n",
    "\n",
    "__Example 2:__\n",
    "\n",
    "__Input:__ `candies = [4,2,1,1,2]`, `extraCandies = 1`\n",
    "\n",
    "__Output:__ `[true,false,false,false,false]`\n",
    "\n",
    "__Explanation:__ There is only 1 extra candy.\n",
    "Kid 1 will always have the greatest number of candies, even if a different kid is given the extra candy.\n",
    "\n",
    "__Example 3:__\n",
    "\n",
    "__Input:__ `candies = [12,1,12]`, `extraCandies = 10`\n",
    "\n",
    "__Output:__ `[true,false,true]`\n",
    " \n",
    "\n",
    "__Constraints:__\n",
    "\n",
    "* n == candies.length\n",
    "* 2 <= n <= 100\n",
    "* 1 <= candies[i] <= 100\n",
    "* 1 <= extraCandies <= 50"
   ]
  },
  {
   "cell_type": "code",
   "execution_count": 4,
   "metadata": {},
   "outputs": [
    {
     "name": "stdout",
     "output_type": "stream",
     "text": [
      "[True, True, True, False, True]\n",
      "[True, False, False, False, False]\n",
      "[True, False, True]\n"
     ]
    }
   ],
   "source": [
    "def kidsWithCandies(candies, extraCandies):\n",
    "    output = []\n",
    "    for i in range(len(candies)):\n",
    "        if(candies[i]+extraCandies >= max(candies)):\n",
    "            output.append(True)\n",
    "        else:\n",
    "            output.append(False)\n",
    "    return output\n",
    "\n",
    "# test case 1\n",
    "candies = [2,3,5,1,3]\n",
    "extraCandies = 3\n",
    "print(kidsWithCandies(candies, extraCandies))\n",
    "\n",
    "# test case 2\n",
    "candies = [4,2,1,1,2]\n",
    "extraCandies = 1\n",
    "print(kidsWithCandies(candies, extraCandies))\n",
    "\n",
    "# test case 2\n",
    "candies = [12,1,12]\n",
    "extraCandies = 10\n",
    "print(kidsWithCandies(candies, extraCandies))"
   ]
  },
  {
   "cell_type": "markdown",
   "metadata": {},
   "source": [
    "## 3. Shuffle the Array\n",
    "\n",
    "Given the array nums consisting of 2n elements in the form [x1,x2,...,xn,y1,y2,...,yn].\n",
    "\n",
    "Return the array in the form [x1,y1,x2,y2,...,xn,yn].\n",
    "\n",
    "__Example 1:__\n",
    "\n",
    "__Input:__ `nums = [2,5,1,3,4,7]`, `n = 3`\n",
    "\n",
    "__Output:__ `[2,3,5,4,1,7]`\n",
    "\n",
    "__Explanation:__ Since x1=2, x2=5, x3=1, y1=3, y2=4, y3=7 then the answer is [2,3,5,4,1,7].\n",
    "\n",
    "__Example 2:__\n",
    "\n",
    "__Input:__ `nums = [1,2,3,4,4,3,2,1]`, `n = 4`\n",
    "\n",
    "__Output:__ `[1,4,2,3,3,2,4,1]`\n",
    "\n",
    "__Example 3:__\n",
    "\n",
    "__Input:__ `nums = [1,1,2,2]`, `n = 2`\n",
    "\n",
    "__Output:__ `[1,2,1,2]`\n",
    " \n",
    "\n",
    "__Constraints:__\n",
    "\n",
    "* 1 <= n <= 500\n",
    "* nums.length == 2n\n",
    "* 1 <= nums[i] <= 10^3"
   ]
  },
  {
   "cell_type": "code",
   "execution_count": 6,
   "metadata": {},
   "outputs": [
    {
     "name": "stdout",
     "output_type": "stream",
     "text": [
      "[2, 3, 5, 4, 1, 7]\n",
      "[1, 4, 2, 3, 3, 2, 4, 1]\n",
      "[1, 2, 1, 2]\n"
     ]
    }
   ],
   "source": [
    "def shuffle(nums, n):\n",
    "    new_nums = []\n",
    "    for idx in range(n):\n",
    "        new_nums.append(nums[idx])\n",
    "        new_nums.append(nums[idx+n])\n",
    "    return new_nums\n",
    "\n",
    "# test case 1\n",
    "nums = [2,5,1,3,4,7]\n",
    "n = 3\n",
    "print(shuffle(nums, n))\n",
    "\n",
    "# test case 2\n",
    "nums = [1,2,3,4,4,3,2,1]\n",
    "n = 4\n",
    "print(shuffle(nums, n))\n",
    "\n",
    "# test case 3\n",
    "nums = [1,1,2,2]\n",
    "n = 2\n",
    "print(shuffle(nums, n))"
   ]
  },
  {
   "cell_type": "code",
   "execution_count": null,
   "metadata": {},
   "outputs": [],
   "source": []
  }
 ],
 "metadata": {
  "kernelspec": {
   "display_name": "Python 3",
   "language": "python",
   "name": "python3"
  },
  "language_info": {
   "codemirror_mode": {
    "name": "ipython",
    "version": 3
   },
   "file_extension": ".py",
   "mimetype": "text/x-python",
   "name": "python",
   "nbconvert_exporter": "python",
   "pygments_lexer": "ipython3",
   "version": "3.8.5"
  }
 },
 "nbformat": 4,
 "nbformat_minor": 4
}
