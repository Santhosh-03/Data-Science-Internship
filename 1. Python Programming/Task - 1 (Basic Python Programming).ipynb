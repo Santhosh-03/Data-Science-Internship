{
 "cells": [
  {
   "cell_type": "markdown",
   "metadata": {},
   "source": [
    "## 1. Say \"Hello, World!\" With Python\n",
    "\n",
    "`my_string = \"Hello, World!\"`\n",
    "\n",
    "`print(my_string)`\n",
    "\n",
    "The above code will print Hello, World! on your screen.\n",
    "\n",
    "__Input Format__\n",
    "\n",
    "You do not need to read any input in this challenge.\n",
    "\n",
    "__Output Format__\n",
    "\n",
    "Print Hello, World! to stdout.\n",
    "\n",
    "__Sample Output__\n",
    "\n",
    "Hello, World!"
   ]
  },
  {
   "cell_type": "code",
   "execution_count": 2,
   "metadata": {},
   "outputs": [
    {
     "name": "stdout",
     "output_type": "stream",
     "text": [
      "Hello, World!\n"
     ]
    }
   ],
   "source": [
    "my_string = 'Hello, World!'\n",
    "print(my_string) # priting the string in my_string"
   ]
  },
  {
   "cell_type": "markdown",
   "metadata": {},
   "source": [
    "## 2. Python If-Else\n",
    "\n",
    "__Task__\n",
    "\n",
    "Given an integer, , perform the following conditional actions:\n",
    "\n",
    "* If `n` is odd, print Weird\n",
    "* If `n` is even and in the inclusive range of `2 to 5`, print Not Weird\n",
    "* If `n` is even and in the inclusive range of `6 to 20`, print Weird\n",
    "* If `n` is even and greater than `20`, print Not Weird\n",
    "\n",
    "__Input Format__\n",
    "\n",
    "A single line containing a positive integer, `n`.\n",
    "\n",
    "__Constraints__\n",
    "\n",
    "1 <= n <= 100\n",
    "\n",
    "__Output Format__\n",
    "\n",
    "Print Weird if the number is weird. Otherwise, print Not Weird.\n",
    "\n",
    "__Sample Input 0__\n",
    "\n",
    "3\n",
    "\n",
    "__Sample Output 0__\n",
    "\n",
    "Weird\n",
    "\n",
    "__Explanation 0__\n",
    "\n",
    "`n = 3`\n",
    "\n",
    "`n` is odd and odd numbers are weird, so print Weird.\n",
    "\n",
    "__Sample Input 1__\n",
    "\n",
    "24\n",
    "\n",
    "__Sample Output 1__\n",
    "\n",
    "Not Weird\n",
    "\n",
    "__Explanation 1__\n",
    "\n",
    "`n = 24`\n",
    "\n",
    "`n > 20` and `n` is even, so it is not weird."
   ]
  },
  {
   "cell_type": "code",
   "execution_count": 5,
   "metadata": {},
   "outputs": [
    {
     "name": "stdout",
     "output_type": "stream",
     "text": [
      "16\n",
      "Weird\n"
     ]
    }
   ],
   "source": [
    "# to execute a certain based on conditions we use conditional statement\n",
    "# if, elif, else\n",
    "\n",
    "n = int(input())\n",
    "\n",
    "if n%2 == 0:\n",
    "    if n in range(2,6):\n",
    "        print('Not Weird')\n",
    "    elif n in range(6, 21):\n",
    "        print('Weird')\n",
    "    elif n > 20:\n",
    "        print('Not Weird')\n",
    "else:\n",
    "    print('Weird')"
   ]
  },
  {
   "cell_type": "markdown",
   "metadata": {},
   "source": [
    "## 3. Arithmetic Operators\n",
    "\n",
    "__Task__\n",
    "\n",
    "The provided code stub reads two integers from STDIN,  and . Add code to print three lines where:\n",
    "\n",
    "1. The first line contains the sum of the two numbers.\n",
    "2. The second line contains the difference of the two numbers (first - second).\n",
    "3. The third line contains the product of the two numbers.\n",
    "\n",
    "__Example__\n",
    "\n",
    "`a = 3`\n",
    "\n",
    "`b = 5`\n",
    "\n",
    "__Print the following:__\n",
    "\n",
    "8\n",
    "\n",
    "-2\n",
    "\n",
    "15\n",
    "\n",
    "__Input Format__\n",
    "\n",
    "The first line contains the first integer, `a`.\n",
    "\n",
    "The second line contains the second integer, `b`.\n",
    "\n",
    "__Constraints__\n",
    "\n",
    "`1 <= a <= 10^10`\n",
    "\n",
    "`1 <= b <= 10^10`\n",
    "\n",
    "__Output Format__\n",
    "\n",
    "Print the three lines as explained above.\n",
    "\n",
    "__Sample Input 0__\n",
    "\n",
    "3\n",
    "\n",
    "2\n",
    "\n",
    "__Sample Output 0__\n",
    "\n",
    "5\n",
    "\n",
    "1\n",
    "\n",
    "6\n",
    "\n",
    "__Explanation 0__\n",
    "\n",
    "\n",
    "`3 + 2 => 5\n",
    " 3 - 2 => 1\n",
    " 3 * 2 => 6`\n"
   ]
  },
  {
   "cell_type": "code",
   "execution_count": 8,
   "metadata": {},
   "outputs": [
    {
     "name": "stdout",
     "output_type": "stream",
     "text": [
      "3\n",
      "2\n",
      "5\n",
      "1\n",
      "6\n"
     ]
    }
   ],
   "source": [
    "a = int(input())\n",
    "b = int(input())\n",
    "\n",
    "print(a+b) # addition\n",
    "print(a-b) # subtraction\n",
    "print(a*b) # multiplication"
   ]
  },
  {
   "cell_type": "markdown",
   "metadata": {},
   "source": [
    "## 4. Python: Division\n",
    "\n",
    "__Task__\n",
    "\n",
    "The provided code stub reads two integers,  and , from STDIN.\n",
    "\n",
    "Add logic to print two lines. The first line should contain the result of integer division, `a // b`. \n",
    "The second line should contain the result of float division,  `a/b`.\n",
    "No rounding or formatting is necessary.\n",
    "\n",
    "__Example__\n",
    "\n",
    "`a = 3`\n",
    "\n",
    "`b = 5`\n",
    "\n",
    "The result of the integer division `3 // 5 = 0`.\n",
    "\n",
    "The result of the float division is `3 / 5 = 0.6`.\n",
    "\n",
    "__Print:__\n",
    "\n",
    "0\n",
    "\n",
    "0.6\n",
    "\n",
    "__Input Format__\n",
    "\n",
    "The first line contains the first integer, `a`.\n",
    "\n",
    "The second line contains the second integer, `b`.\n",
    "\n",
    "__Output Format__\n",
    "\n",
    "Print the two lines as described above.\n",
    "\n",
    "__Sample Input 0__\n",
    "\n",
    "4\n",
    "\n",
    "3\n",
    "\n",
    "__Sample Output 0__\n",
    "\n",
    "1\n",
    "\n",
    "1.33333333333"
   ]
  },
  {
   "cell_type": "code",
   "execution_count": 10,
   "metadata": {},
   "outputs": [
    {
     "name": "stdout",
     "output_type": "stream",
     "text": [
      "4\n",
      "3\n",
      "1\n",
      "1.3333333333333333\n"
     ]
    }
   ],
   "source": [
    "a = int(input())\n",
    "b = int(input())\n",
    "\n",
    "print(a // b) # integer division\n",
    "print(a/b) # float division"
   ]
  },
  {
   "cell_type": "markdown",
   "metadata": {},
   "source": [
    "## 5. Loops\n",
    "\n",
    "__Task__\n",
    "\n",
    "The provided code stub reads and integer, `n`, from STDIN. For all non-negative integers `i < n`, print `i^2`.\n",
    "\n",
    "__Example__\n",
    "\n",
    "The list of non-negative integers that are less than `n = 3` is `[0,1,2]` . Print the square of each number on a separate line.\n",
    "\n",
    "0\n",
    "\n",
    "1\n",
    "\n",
    "4\n",
    "\n",
    "__Input Format__\n",
    "\n",
    "The first and only line contains the integer, .\n",
    "\n",
    "__Constraints__\n",
    "\n",
    "`1 <= n <= 20`\n",
    "\n",
    "__Output Format__\n",
    "\n",
    "Print `n` lines, one corresponding to each .\n",
    "\n",
    "__Sample Input 0__\n",
    "\n",
    "5\n",
    "\n",
    "__Sample Output 0__\n",
    "\n",
    "0\n",
    "\n",
    "1\n",
    "\n",
    "4\n",
    "\n",
    "9\n",
    "\n",
    "16"
   ]
  },
  {
   "cell_type": "code",
   "execution_count": 13,
   "metadata": {},
   "outputs": [
    {
     "name": "stdout",
     "output_type": "stream",
     "text": [
      "5\n",
      "0\n",
      "1\n",
      "4\n",
      "9\n",
      "16\n"
     ]
    }
   ],
   "source": [
    "# to execute a block of statement iteratively \n",
    "# we use loops\n",
    "# for and while\n",
    "\n",
    "n = int(input())\n",
    "for num in range(n): # for loop runs from 0 to n-1\n",
    "    print(num**2) # printing the square of number"
   ]
  },
  {
   "cell_type": "markdown",
   "metadata": {},
   "source": [
    "## 6. Write a function\n",
    "\n",
    "An extra day is added to the calendar almost every four years as February 29, and the day is called a leap day. It corrects the calendar for the fact that our planet takes approximately 365.25 days to orbit the sun. A leap year contains a leap day.\n",
    "\n",
    "In the Gregorian calendar, three conditions are used to identify leap years:\n",
    "\n",
    "* The year can be evenly divided by 4, is a leap year, unless:\n",
    "* The year can be evenly divided by 100, it is NOT a leap year, unless:\n",
    "* The year is also evenly divisible by 400. Then it is a leap year.\n",
    "* This means that in the Gregorian calendar, the years 2000 and 2400 are leap years, while 1800, 1900, 2100, 2200, 2300 and 2500 are NOT leap years. Source\n",
    "\n",
    "__Task__\n",
    "\n",
    "Given a year, determine whether it is a leap year. If it is a leap year, return the Boolean True, otherwise return False.\n",
    "\n",
    "Note that the code stub provided reads from STDIN and passes arguments to the is_leap function. It is only necessary to complete the is_leap function.\n",
    "\n",
    "__Input Format__\n",
    "\n",
    "Read `year`, the year to test.\n",
    "\n",
    "__Constraints__\n",
    "\n",
    "`1900 <= year <= 10^5`\n",
    "\n",
    "__Output Format__\n",
    "\n",
    "The function must return a Boolean value (True/False). Output is handled by the provided code stub.\n",
    "\n",
    "__Sample Input 0__\n",
    "\n",
    "1990\n",
    "\n",
    "__Sample Output 0__\n",
    "\n",
    "False\n",
    "\n",
    "__Explanation 0__\n",
    "\n",
    "1990 is not a multiple of 4 hence it's not a leap year"
   ]
  },
  {
   "cell_type": "code",
   "execution_count": 21,
   "metadata": {},
   "outputs": [
    {
     "name": "stdout",
     "output_type": "stream",
     "text": [
      "1900\n",
      "False\n"
     ]
    }
   ],
   "source": [
    "# a function is a section of a code that performs a specific task\n",
    "\n",
    "def is_leap(year):\n",
    "    leap = False\n",
    "    if(year % 400 == 0 or year % 100 != 0) and (year % 4 == 0):\n",
    "        leap = True\n",
    "        \n",
    "    return leap\n",
    "\n",
    "year_input = int(input())\n",
    "print(is_leap(year_input))"
   ]
  },
  {
   "cell_type": "markdown",
   "metadata": {},
   "source": [
    "## 7. Print Function\n",
    "\n",
    "The included code stub will read an integer, `n`, from STDIN.\n",
    "\n",
    "Without using any string methods, try to print the following:\n",
    "\n",
    "`123...n`\n",
    "\n",
    "\n",
    "Note that \"...\" represents the consecutive values in between.\n",
    "\n",
    "__Example__\n",
    "\n",
    "`n = 5`\n",
    "\n",
    "Print the string `12345`.\n",
    "\n",
    "__Input Format__\n",
    "\n",
    "The first line contains an integer `n`.\n",
    "\n",
    "__Constraints__\n",
    "\n",
    "` 1 <= n <= 150`\n",
    "\n",
    "__Output Format__\n",
    "\n",
    "Print the list of integers from  through  as a string, without spaces.\n",
    "\n",
    "__Sample Input 0__\n",
    "\n",
    "3\n",
    "\n",
    "__Sample Output 0__\n",
    "\n",
    "123"
   ]
  },
  {
   "cell_type": "code",
   "execution_count": 23,
   "metadata": {},
   "outputs": [
    {
     "name": "stdout",
     "output_type": "stream",
     "text": [
      "5\n",
      "12345"
     ]
    }
   ],
   "source": [
    "n = int(input())\n",
    "\n",
    "for num in range(1,n+1):\n",
    "    print(num, end = '')"
   ]
  },
  {
   "cell_type": "markdown",
   "metadata": {},
   "source": [
    "## Thank You"
   ]
  },
  {
   "cell_type": "code",
   "execution_count": null,
   "metadata": {},
   "outputs": [],
   "source": []
  }
 ],
 "metadata": {
  "kernelspec": {
   "display_name": "Python 3",
   "language": "python",
   "name": "python3"
  },
  "language_info": {
   "codemirror_mode": {
    "name": "ipython",
    "version": 3
   },
   "file_extension": ".py",
   "mimetype": "text/x-python",
   "name": "python",
   "nbconvert_exporter": "python",
   "pygments_lexer": "ipython3",
   "version": "3.8.5"
  }
 },
 "nbformat": 4,
 "nbformat_minor": 4
}
