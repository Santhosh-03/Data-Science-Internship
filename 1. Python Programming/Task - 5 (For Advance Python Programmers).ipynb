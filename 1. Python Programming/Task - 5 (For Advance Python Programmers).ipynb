{
 "cells": [
  {
   "cell_type": "markdown",
   "metadata": {},
   "source": [
    "## 1. Subsets\n",
    "\n",
    "Given an integer array nums of unique elements, return all possible subsets (the power set).\n",
    "\n",
    "The solution set must not contain duplicate subsets. Return the solution in any order.\n",
    "\n",
    " \n",
    "\n",
    "__Example 1:__\n",
    "\n",
    "__Input:__ `nums = [1,2,3]` \n",
    "\n",
    "__Output:__ `[[],[1],[2],[1,2],[3],[1,3],[2,3],[1,2,3]]`   \n",
    "\n",
    "__Example 2:__\n",
    "\n",
    "__Input:__ `nums = [0]`  \n",
    "\n",
    "__Output:__ `[[],[0]]`  \n",
    " \n",
    "\n",
    "__Constraints:__\n",
    "\n",
    "* 1 <= nums.length <= 10\n",
    "* -10 <= nums[i] <= 10\n",
    "* All the numbers of nums are unique."
   ]
  },
  {
   "cell_type": "code",
   "execution_count": 1,
   "metadata": {},
   "outputs": [
    {
     "name": "stdout",
     "output_type": "stream",
     "text": [
      "[[], [1], [2], [1, 2], [3], [1, 3], [2, 3], [1, 2, 3]]\n",
      "[[], [0]]\n"
     ]
    }
   ],
   "source": [
    "def subsets(nums):\n",
    "    result = [[]] # creating a list of list\n",
    "    for num in nums: # for every number in the list\n",
    "        result += [i + [num] for i in result] # concatenating with the already present element\n",
    "    return result \n",
    "\n",
    "# test case 1\n",
    "nums = [1,2,3] # input list\n",
    "print(subsets(nums)) # calling the function\n",
    "\n",
    "# test case 2\n",
    "nums = [0] # input list\n",
    "print(subsets(nums)) # calling the function"
   ]
  },
  {
   "cell_type": "markdown",
   "metadata": {},
   "source": [
    "## 2.  Hamming Distance\n",
    "\n",
    "The Hamming distance between two integers is the number of positions at which the corresponding bits are different.\n",
    "\n",
    "Given two integers x and y, return the Hamming distance between them.\n",
    "\n",
    "__Example 1:__\n",
    "\n",
    "__Input:__ `x = 1, y = 4`  \n",
    "\n",
    "__Output:__ `2`\n",
    "\n",
    "__Explanation:__\n",
    "\n",
    "1   (0 0 0 1)\n",
    "\n",
    "4   (0 1 0 0)\n",
    "\n",
    "__Example 2:__\n",
    "\n",
    "__Input:__ `x = 3, y = 1`\n",
    "\n",
    "__Output: 1__\n",
    " \n",
    "\n",
    "__Constraints:__\n",
    "\n",
    "* 0 <= x, y <= 231 - 1\n"
   ]
  },
  {
   "cell_type": "code",
   "execution_count": 3,
   "metadata": {},
   "outputs": [
    {
     "name": "stdout",
     "output_type": "stream",
     "text": [
      "2\n",
      "1\n"
     ]
    }
   ],
   "source": [
    "def hammingDistance(x, y):\n",
    "    count = 0 # initializing the count\n",
    "    for i in bin(x^y)[2:]: # finding the xor of the two inputs\n",
    "        if i == '1': # since opposite bits are equal to 1 we check that condition\n",
    "            count += 1 # increamenting the count\n",
    "    return count\n",
    "\n",
    "# test case 1\n",
    "x, y = 1, 4 # input values\n",
    "print(hammingDistance(x, y)) # calling the function\n",
    "\n",
    "# test case 2\n",
    "x, y = 3, 1 # input values\n",
    "print(hammingDistance(x, y)) # calling the function"
   ]
  },
  {
   "cell_type": "markdown",
   "metadata": {},
   "source": [
    "## 3. Single Number II\n",
    "\n",
    "Given an integer array nums where every element appears three times except for one, which appears exactly once. Find the single element and return it.\n",
    "\n",
    "You must implement a solution with a linear runtime complexity and use only constant extra space.\n",
    "\n",
    "__Example 1:__\n",
    "\n",
    "__Input:__ `nums = [2,2,3,2]`\n",
    "\n",
    "__Output:__ `3`\n",
    "\n",
    "__Example 2:__\n",
    "\n",
    "__Input:__ `nums = [0,1,0,1,0,1,99]`\n",
    "\n",
    "__Output:__ `99`\n",
    " \n",
    "__Constraints:__\n",
    "\n",
    "* 1 <= nums.length <= 3 * 104\n",
    "* -231 <= nums[i] <= 231 - 1\n",
    "* Each element in nums appears exactly three times except for one element which appears once."
   ]
  },
  {
   "cell_type": "code",
   "execution_count": 4,
   "metadata": {},
   "outputs": [
    {
     "name": "stdout",
     "output_type": "stream",
     "text": [
      "3\n",
      "99\n"
     ]
    }
   ],
   "source": [
    "def singleNumber(nums):\n",
    "    for num in nums: # for every number in nums list\n",
    "        if nums.count(num) == 1: # checking whether the count of that number is 1 in the list\n",
    "            return num # returning that number\n",
    "            break\n",
    "            \n",
    "# test case 1\n",
    "nums = [2,2,3,2] # input list\n",
    "print(singleNumber(nums)) # calling the function\n",
    "\n",
    "# test case 2\n",
    "nums = [0,1,0,1,0,1,99] # input list\n",
    "print(singleNumber(nums)) # calling the function"
   ]
  },
  {
   "cell_type": "code",
   "execution_count": null,
   "metadata": {},
   "outputs": [],
   "source": []
  }
 ],
 "metadata": {
  "kernelspec": {
   "display_name": "Python 3",
   "language": "python",
   "name": "python3"
  },
  "language_info": {
   "codemirror_mode": {
    "name": "ipython",
    "version": 3
   },
   "file_extension": ".py",
   "mimetype": "text/x-python",
   "name": "python",
   "nbconvert_exporter": "python",
   "pygments_lexer": "ipython3",
   "version": "3.8.5"
  }
 },
 "nbformat": 4,
 "nbformat_minor": 4
}
