{
 "cells": [
  {
   "cell_type": "markdown",
   "metadata": {},
   "source": [
    "## 1. Single Number\n",
    "\n",
    "Given a non-empty array of integers nums, every element appears twice except for one. Find that single one.\n",
    "\n",
    "You must implement a solution with a linear runtime complexity and use only constant extra space.\n",
    "\n",
    "__Example 1:__\n",
    "\n",
    "__Input:__ `nums = [2,2,1]`\n",
    "__Output:__ `1`\n",
    "\n",
    "__Example 2:__\n",
    "\n",
    "__Input:__ `nums = [4,1,2,1,2]`\n",
    "__Output:__ `4`\n",
    "\n",
    "__Example 3:__\n",
    "\n",
    "__Input:__ `nums = [1]`\n",
    "__Output:__ `1`\n",
    " \n",
    "__Constraints:__\n",
    "\n",
    "* 1 <= nums.length <= 3 * 104\n",
    "* -3 * 104 <= nums[i] <= 3 * 104\n",
    "* Each element in the array appears twice except for one element which appears only once."
   ]
  },
  {
   "cell_type": "code",
   "execution_count": 1,
   "metadata": {},
   "outputs": [
    {
     "name": "stdout",
     "output_type": "stream",
     "text": [
      "1\n",
      "4\n",
      "1\n"
     ]
    }
   ],
   "source": [
    "def singleNumber(nums):\n",
    "    count_dict = {} # empty dictionary\n",
    "    for num in nums: # for every number in nums list\n",
    "        if num not in count_dict: # checking whether it is not present in the dictionary\n",
    "            count_dict[num] = 1 # initializing the key num to 1 because it a is new entry\n",
    "        else: # existing key\n",
    "            count_dict[num] += 1 # increamenting the count\n",
    "    for key in count_dict.keys(): # for every key in the count_dict dictionary\n",
    "        if count_dict[key] == 1: # checking whether value for that key is 1\n",
    "            return key # returning the key\n",
    "        \n",
    "# test case 1\n",
    "nums = [2,2,1]\n",
    "print(singleNumber(nums)) # calling the function\n",
    "\n",
    "# test case 2\n",
    "nums = [4,1,2,1,2]\n",
    "print(singleNumber(nums)) # calling the function\n",
    "\n",
    "# test case 3\n",
    "nums = [1]\n",
    "print(singleNumber(nums)) # calling the function"
   ]
  },
  {
   "cell_type": "markdown",
   "metadata": {},
   "source": [
    "## 2. Sort Integers by The Number of 1 Bits\n",
    "\n",
    "Given an integer array arr. You have to sort the integers in the array in ascending order by the number of 1's in their binary representation and in case of two or more integers have the same number of 1's you have to sort them in ascending order.\n",
    "\n",
    "Return the sorted array.\n",
    "\n",
    "__Example 1:__\n",
    "\n",
    "__Input:__ `arr = [0,1,2,3,4,5,6,7,8]`\n",
    "__Output:__ `[0,1,2,4,8,3,5,6,7]`\n",
    "\n",
    "__Explantion:__ \n",
    "* [0] is the only integer with 0 bits.\n",
    "* [1,2,4,8] all have 1 bit.\n",
    "* [3,5,6] have 2 bits.\n",
    "* [7] has 3 bits.\n",
    "* The sorted array by bits is [0,1,2,4,8,3,5,6,7]\n",
    "\n",
    "__Example 2:__\n",
    "\n",
    "__Input:__ `arr = [1024,512,256,128,64,32,16,8,4,2,1]`\n",
    "__Output:__ `[1,2,4,8,16,32,64,128,256,512,1024]`\n",
    "\n",
    "__Explantion:__ All integers have 1 bit in the binary representation, you should just sort them in ascending order.\n",
    "\n",
    "__Example 3:__\n",
    "\n",
    "__Input:__ `arr = [10000,10000]`\n",
    "__Output:__ `[10000,10000]`\n",
    "\n",
    "__Example 4:__\n",
    "\n",
    "__Input:__ `arr = [2,3,5,7,11,13,17,19]`\n",
    "__Output:__ `[2,3,5,17,7,11,13,19]`\n",
    "\n",
    "__Example 5:__\n",
    "\n",
    "__Input:__ `arr = [10,100,1000,10000]`\n",
    "__Output:__`[10,100,10000,1000]`\n",
    " \n",
    "__Constraints:__\n",
    "\n",
    "* 1 <= arr.length <= 500\n",
    "* 0 <= arr[i] <= 10^4"
   ]
  },
  {
   "cell_type": "code",
   "execution_count": 9,
   "metadata": {},
   "outputs": [
    {
     "name": "stdout",
     "output_type": "stream",
     "text": [
      "[0, 1, 2, 4, 8, 3, 5, 6, 7]\n",
      "[1, 2, 4, 8, 16, 32, 64, 128, 256, 512, 1024]\n",
      "[10000, 10000]\n",
      "[2, 3, 5, 17, 7, 11, 13, 19]\n",
      "[10, 100, 10000, 1000]\n"
     ]
    }
   ],
   "source": [
    "def sortByBits(arr):\n",
    "    arr.sort() # sorting the input list\n",
    "    arr2 = [] # empty list\n",
    "    for num in arr: # for every element in arr list\n",
    "        arr2.append([bin(num).count('1'), num]) # appending a list of number of 1's in binary format and the number itself\n",
    "    arr2.sort() # sorting the list\n",
    "    arr3 = [] # empty list\n",
    "    for item in range(len(arr2)): # iterating the list arr2 \n",
    "        arr3.append(arr2[item][1]) # appending the second element present in arr2 to arr3\n",
    "    return arr3\n",
    "\n",
    "# test case 1\n",
    "arr = [0,1,2,3,4,5,6,7,8]\n",
    "print(sortByBits(arr)) # calling the function\n",
    "\n",
    "# test case 2\n",
    "arr = [1024,512,256,128,64,32,16,8,4,2,1]\n",
    "print(sortByBits(arr)) # calling the function\n",
    "\n",
    "# test case 3\n",
    "arr = [10000,10000]\n",
    "print(sortByBits(arr)) # calling the function\n",
    "\n",
    "# test case 4\n",
    "arr = [2,3,5,7,11,13,17,19]\n",
    "print(sortByBits(arr)) # calling the function\n",
    "\n",
    "# test case 5\n",
    "arr = [10,100,1000,10000]\n",
    "print(sortByBits(arr)) # calling the function"
   ]
  },
  {
   "cell_type": "markdown",
   "metadata": {},
   "source": [
    "## 3. Single Number III\n",
    "\n",
    "Given an integer array nums, in which exactly two elements appear only once and all the other elements appear exactly twice. Find the two elements that appear only once. You can return the answer in any order.\n",
    "\n",
    "You must write an algorithm that runs in linear runtime complexity and uses only constant extra space.\n",
    "\n",
    "__Example 1:__\n",
    "\n",
    "__Input:__ `nums = [1,2,1,3,2,5]`\n",
    "__Output:__ `[3,5]`\n",
    "\n",
    "__Explanation:__  `[5, 3]` is also a valid answer.\n",
    "\n",
    "__Example 2:__\n",
    "\n",
    "__Input:__ `nums = [-1,0]`\n",
    "__Output:__ `[-1,0]`\n",
    "\n",
    "__Example 3:__\n",
    "\n",
    "__Input:__ `nums = [0,1]`\n",
    "__Output:__ `[1,0]`\n",
    " \n",
    "\n",
    "__Constraints:__\n",
    "\n",
    "* 2 <= nums.length <= 3 * 104\n",
    "* -231 <= nums[i] <= 231 - 1\n",
    "* Each integer in nums will appear twice, only two integers will appear once."
   ]
  },
  {
   "cell_type": "code",
   "execution_count": 2,
   "metadata": {},
   "outputs": [
    {
     "name": "stdout",
     "output_type": "stream",
     "text": [
      "[3, 5]\n",
      "[-1, 0]\n",
      "[0, 1]\n"
     ]
    }
   ],
   "source": [
    "def singleNumber(nums):\n",
    "    count_dict = {} # empty dictionary\n",
    "    count_ls = [] # empty list\n",
    "    for num in nums: # for every number in nums list\n",
    "        if num not in count_dict: # checking whether it is not present in the dictionary\n",
    "            count_dict[num] = 1 # initializing the key num to 1 because it a is new entry\n",
    "        else: # existing key\n",
    "            count_dict[num] += 1 # increamenting the count\n",
    "    for key in count_dict.keys(): # for every key in the count_dict dictionary\n",
    "        if count_dict[key] == 1: # checking whether value for that key is 1\n",
    "            count_ls.append(key) # appending the key to the count_ls list\n",
    "\n",
    "    return count_ls\n",
    "\n",
    "\n",
    "# test case 1\n",
    "nums = [1,2,1,3,2,5]\n",
    "print(singleNumber(nums)) # calling the function\n",
    "\n",
    "# test case 2\n",
    "nums = [-1,0]\n",
    "print(singleNumber(nums)) # calling the function\n",
    "\n",
    "# test case \n",
    "nums = [0,1]\n",
    "print(singleNumber(nums)) # calling the function"
   ]
  },
  {
   "cell_type": "markdown",
   "metadata": {},
   "source": [
    "## 4. Subsets\n",
    "\n",
    "Given an integer array nums of unique elements, return all possible subsets (the power set).\n",
    "\n",
    "The solution set must not contain duplicate subsets. Return the solution in any order. \n",
    "\n",
    "__Example 1:__\n",
    "\n",
    "__Input:__ `nums = [1,2,3]`\n",
    "__Output:__ `[[],[1],[2],[1,2],[3],[1,3],[2,3],[1,2,3]]`\n",
    "\n",
    "__Example 2:__\n",
    "\n",
    "__Input:__ `nums = [0]`\n",
    "__Output:__ `[[],[0]]`\n",
    " \n",
    "__Constraints:__\n",
    "\n",
    "* 1 <= nums.length <= 10\n",
    "* -10 <= nums[i] <= 10\n",
    "* All the numbers of nums are unique."
   ]
  },
  {
   "cell_type": "code",
   "execution_count": 4,
   "metadata": {},
   "outputs": [
    {
     "name": "stdout",
     "output_type": "stream",
     "text": [
      "[[], [1], [2], [1, 2], [3], [1, 3], [2, 3], [1, 2, 3]]\n",
      "[[], [0]]\n"
     ]
    }
   ],
   "source": [
    "def subsets(nums):\n",
    "    result = [[]] # creating a list of list\n",
    "    for num in nums: # for every number in list\n",
    "        result += [i + [num] for i in result] # appending the subsets to the result list\n",
    "    return result\n",
    "\n",
    "# test case 1\n",
    "nums = [1,2,3]\n",
    "print(subsets(nums)) # calling the function\n",
    "\n",
    "# test case 2\n",
    "nums = [0]\n",
    "print(subsets(nums)) # calling the function"
   ]
  },
  {
   "cell_type": "code",
   "execution_count": null,
   "metadata": {},
   "outputs": [],
   "source": []
  }
 ],
 "metadata": {
  "kernelspec": {
   "display_name": "Python 3",
   "language": "python",
   "name": "python3"
  },
  "language_info": {
   "codemirror_mode": {
    "name": "ipython",
    "version": 3
   },
   "file_extension": ".py",
   "mimetype": "text/x-python",
   "name": "python",
   "nbconvert_exporter": "python",
   "pygments_lexer": "ipython3",
   "version": "3.8.5"
  }
 },
 "nbformat": 4,
 "nbformat_minor": 4
}
